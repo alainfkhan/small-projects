{
 "cells": [
  {
   "cell_type": "markdown",
   "id": "bb083a08",
   "metadata": {},
   "source": [
    "Matrix Operations Notebook"
   ]
  },
  {
   "cell_type": "code",
   "execution_count": null,
   "id": "b6ba33ea",
   "metadata": {
    "vscode": {
     "languageId": "plaintext"
    }
   },
   "outputs": [],
   "source": [
    "import numpy as np\n",
    "\n"
   ]
  },
  {
   "cell_type": "code",
   "execution_count": null,
   "id": "3eb13d60",
   "metadata": {
    "vscode": {
     "languageId": "plaintext"
    }
   },
   "outputs": [],
   "source": []
  }
 ],
 "metadata": {
  "language_info": {
   "name": "python"
  }
 },
 "nbformat": 4,
 "nbformat_minor": 5
}
