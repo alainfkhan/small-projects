{
 "cells": [
  {
   "cell_type": "markdown",
   "id": "bb083a08",
   "metadata": {},
   "source": [
    "# Matrix Operations Notebook\n",
    "\n",
    "# Imports and initialisations"
   ]
  },
  {
   "cell_type": "code",
   "execution_count": 32,
   "id": "b6ba33ea",
   "metadata": {},
   "outputs": [
    {
     "name": "stdout",
     "output_type": "stream",
     "text": [
      "A = [[3 1]\n",
      " [2 4]]\n",
      "B = [[1 0]\n",
      " [0 1]]\n",
      "b = [5 6]\n"
     ]
    }
   ],
   "source": [
    "# Immports\n",
    "import numpy as np\n",
    "\n",
    "A = np.array([[3,1],\n",
    "              [2,4]])\n",
    "\n",
    "B = np.array([[1,0],\n",
    "              [0,1]])\n",
    "\n",
    "b = np.array([5,6])\n",
    "\n",
    "print(f'A = {A}')\n",
    "print(f'B = {B}')\n",
    "print(f'b = {b}')"
   ]
  },
  {
   "cell_type": "markdown",
   "id": "3eb13d60",
   "metadata": {},
   "source": [
    "# Matrix addition, sutraction, dot product, inverse"
   ]
  },
  {
   "cell_type": "code",
   "execution_count": 30,
   "id": "8dc6b543",
   "metadata": {},
   "outputs": [
    {
     "name": "stdout",
     "output_type": "stream",
     "text": [
      "Addition\n",
      "A+B = [[4 1]\n",
      " [2 5]]\n",
      "A+B = [[4 1]\n",
      " [2 5]]\n",
      "Subtraction\n",
      "A-B = [[2 1]\n",
      " [2 3]]\n",
      "A-B = [[2 1]\n",
      " [2 3]]\n",
      "Dot product\n",
      "AB = [[3 1]\n",
      " [2 4]]\n",
      "AB = [[3 1]\n",
      " [2 4]]\n",
      "Inverse\n",
      "A^(-1) = [[ 0.4 -0.1]\n",
      " [-0.2  0.3]]\n",
      "Such that AA^(-1) = [[1. 0.]\n",
      " [0. 1.]] = I\n"
     ]
    }
   ],
   "source": [
    "# Addition (element-wise)\n",
    "print('Addition')\n",
    "print(f'A+B = {np.add(A,B)}')\n",
    "print(f'A+B = {A+B}')\n",
    "\n",
    "# Subtraction (element-wise)\n",
    "print('Subtraction')\n",
    "print(f'A-B = {np.subtract(A,B)}')\n",
    "print(f'A-B = {A-B}')\n",
    "\n",
    "# Dot product\n",
    "print('Dot product')\n",
    "print(f'AB = {np.dot(A,B)}')\n",
    "print(f'AB = {A@B}')            # faster apparently\n",
    "\n",
    "# Inverse\n",
    "print('Inverse')\n",
    "print(f'A^(-1) = {np.linalg.inv(A)}')\n",
    "print(f'Such that AA^(-1) = {np.dot(A,np.linalg.inv(A))} = I')\n",
    "\n"
   ]
  },
  {
   "cell_type": "markdown",
   "id": "69095369",
   "metadata": {},
   "source": [
    "# Left/right divide, eigenvalues"
   ]
  },
  {
   "cell_type": "code",
   "execution_count": null,
   "id": "f7e92884",
   "metadata": {},
   "outputs": [
    {
     "name": "stdout",
     "output_type": "stream",
     "text": [
      "Left divide\n",
      "AX = B => X = A^(-1)B = [[ 0.4 -0.1]\n",
      " [-0.2  0.3]]\n",
      "A^(-1)B = [[ 0.4 -0.1]\n",
      " [-0.2  0.3]]\n",
      "Ax = b => x = A^(-1)b = [1.4 0.8]\n",
      "Right divide\n",
      "A = BX => X = B^(-1)A = [[3. 1.]\n",
      " [2. 4.]]\n",
      "B^(-1)A = [[3. 1.]\n",
      " [2. 4.]]\n",
      "Eigenvalues\n",
      "EigResult(eigenvalues=array([2., 5.]), eigenvectors=array([[-0.70710678, -0.4472136 ],\n",
      "       [ 0.70710678, -0.89442719]]))\n"
     ]
    }
   ],
   "source": [
    "\n",
    "# Left divide\n",
    "print('Left divide')\n",
    "print(f'AX = B => X = A^(-1)B = {np.linalg.solve(A,B)}')    # Matlab: A \\ B\n",
    "print(f'A^(-1)B = {np.dot(np.linalg.inv(A),B)}')\n",
    "print(f'Ax = b => x = A^(-1)b = {np.linalg.solve(A,b)}')\n",
    "\n",
    "# Right divide\n",
    "print('Right divide')\n",
    "print(f'A = BX => X = B^(-1)A = {np.linalg.solve(B,A)}')    # Matlab: A / B\n",
    "print(f'B^(-1)A = {np.dot(np.linalg.inv(B),A)}')\n",
    "\n",
    "# Eigenvalues\n",
    "print('Eigenvalues')\n",
    "print(f'{np.linalg.eig(A)}')\n",
    "\n"
   ]
  },
  {
   "cell_type": "markdown",
   "id": "615202d8",
   "metadata": {},
   "source": [
    "# Element-wise multiplication, sqrt, exp"
   ]
  },
  {
   "cell_type": "code",
   "execution_count": null,
   "id": "dd6d3820",
   "metadata": {},
   "outputs": [],
   "source": []
  },
  {
   "cell_type": "markdown",
   "id": "b0564046",
   "metadata": {},
   "source": [
    "# Transpose, determinant, trace"
   ]
  },
  {
   "cell_type": "code",
   "execution_count": 29,
   "id": "5e6494f3",
   "metadata": {},
   "outputs": [
    {
     "name": "stdout",
     "output_type": "stream",
     "text": [
      "Transpose\n",
      "A^T = [[3 2]\n",
      " [1 4]]\n",
      "A^T = [[3 2]\n",
      " [1 4]]\n",
      "Determinant\n",
      "detA = 10.000000000000002\n",
      "detA = 10\n",
      "Trace\n",
      "tr(A) = 7\n",
      "tr(A) = 7\n"
     ]
    }
   ],
   "source": [
    "# Transpose\n",
    "print('Transpose')\n",
    "print(f'A^T = {np.transpose(A)}')\n",
    "print(f'A^T = {A.T}')\n",
    "\n",
    "# Determinant\n",
    "print('Determinant')\n",
    "print(f'detA = {np.linalg.det(A)}')     # why =float when entries int?\n",
    "\n",
    "# let A = [[p,q]\n",
    "#          [r,s]]\n",
    "# then, detA = ps-qr\n",
    "\n",
    "p = A[0,0]\n",
    "q = A[0,1]\n",
    "r = A[1,0]\n",
    "s = A[1,1]\n",
    "\n",
    "print(f'detA = {p*s - q*r}')\n",
    "\n",
    "# Trace\n",
    "print('Trace')\n",
    "print(f'tr(A) = {np.trace(A)}')\n",
    "print(f'tr(A) = {p+s}')\n",
    "\n"
   ]
  },
  {
   "cell_type": "code",
   "execution_count": null,
   "id": "9ac8815c",
   "metadata": {},
   "outputs": [],
   "source": []
  }
 ],
 "metadata": {
  "kernelspec": {
   "display_name": ".venv",
   "language": "python",
   "name": "python3"
  },
  "language_info": {
   "codemirror_mode": {
    "name": "ipython",
    "version": 3
   },
   "file_extension": ".py",
   "mimetype": "text/x-python",
   "name": "python",
   "nbconvert_exporter": "python",
   "pygments_lexer": "ipython3",
   "version": "3.11.4"
  }
 },
 "nbformat": 4,
 "nbformat_minor": 5
}
